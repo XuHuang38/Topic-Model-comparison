{
 "cells": [
  {
   "cell_type": "code",
   "execution_count": 1,
   "id": "1a440540",
   "metadata": {},
   "outputs": [],
   "source": [
    "import numpy as np\n",
    "from scipy.optimize import fsolve\n",
    "import math"
   ]
  },
  {
   "cell_type": "code",
   "execution_count": 2,
   "id": "599396d5",
   "metadata": {},
   "outputs": [],
   "source": [
    "from scipy.special import psi"
   ]
  },
  {
   "cell_type": "raw",
   "id": "b4b67105",
   "metadata": {},
   "source": [
    "pseudo maximum likelihood estimates"
   ]
  },
  {
   "cell_type": "code",
   "execution_count": null,
   "id": "f5587767",
   "metadata": {},
   "outputs": [],
   "source": [
    "#K - number of topics\n",
    "K = 3\n",
    "# N - number of character locations\n",
    "N = 10\n",
    "# V - number of vocabulary\n",
    "V = 60"
   ]
  },
  {
   "cell_type": "code",
   "execution_count": 32,
   "id": "74cf14b4",
   "metadata": {},
   "outputs": [],
   "source": [
    "def compute_eta1(x):\n",
    "    # x is the vector of \\tilde(eta_1k)\n",
    "    return np.mean(x)"
   ]
  },
  {
   "cell_type": "code",
   "execution_count": 83,
   "id": "a80be809",
   "metadata": {},
   "outputs": [],
   "source": [
    "def compute_eta2(x,y,z, K=3):\n",
    "    # x is the vector of \\tilde(eta_1k)\n",
    "    # y is the vector of \\tilde(eta_2k)\n",
    "    # z is eta_1\n",
    "    sum_ = 0\n",
    "    for i in range(K):\n",
    "        toadd = y[i]**2 + np.inner(x[k]-z, x[k]-z)\n",
    "        sum_ += toadd\n",
    "    return sum_/K"
   ]
  },
  {
   "cell_type": "code",
   "execution_count": null,
   "id": "3c157b93",
   "metadata": {},
   "outputs": [],
   "source": [
    "def compute_nu1(x):\n",
    "    # x is the vector of \\tilde(nu_1n)\n",
    "    return np.mean(x)"
   ]
  },
  {
   "cell_type": "code",
   "execution_count": 39,
   "id": "45073d2a",
   "metadata": {},
   "outputs": [],
   "source": [
    "def compute_nu2(x,y,z, N=10):\n",
    "    # x is the vector of \\tilde(nu_1n)\n",
    "    # y is the vector of \\tilde(nu_2n)\n",
    "    # z is nu_1\n",
    "    sum_ = 0\n",
    "    for i in range(K):\n",
    "        toadd = y[i]**2 + np.inner(x[k]-z, x[k]-z)\n",
    "        sum_ += toadd\n",
    "    return sum_/N"
   ]
  },
  {
   "cell_type": "code",
   "execution_count": null,
   "id": "49e4c86a",
   "metadata": {},
   "outputs": [],
   "source": [
    "def compute_omega():\n",
    "    return np.infty"
   ]
  },
  {
   "cell_type": "code",
   "execution_count": 67,
   "id": "0c3d4fde",
   "metadata": {},
   "outputs": [],
   "source": [
    "def compute_phi(x0, V0= 60, K0 =3):\n",
    "    # x is the matrix of \\tilde(phi_kj)\n",
    "    x = x0\n",
    "    V=V0\n",
    "    K=K0\n",
    "    sol = optimize.root(lambda y: phi_MLE_func(x, y, V, K), x0 = [0.0])\n",
    "    return sol.x"
   ]
  },
  {
   "cell_type": "code",
   "execution_count": 57,
   "id": "44d4607a",
   "metadata": {},
   "outputs": [],
   "source": [
    "def phi_MLE_func(x, y, V = 60, K = 3):\n",
    "    # x is the matrix of \\tilde(phi_kj), KxV\n",
    "    # y is phi\n",
    "    # psi = digamma function\n",
    "    sum_ = 0\n",
    "    for k in range(K):\n",
    "        temp1 = psi(sum(x[k,]))\n",
    "        for v in range(V):\n",
    "            toadd = psi(x[k,v]-temp1)\n",
    "            sum_ += toadd\n",
    "    return (psi(V*y)-psi(y))*K*V +sum_\n",
    "    "
   ]
  },
  {
   "cell_type": "raw",
   "id": "0e767f6c",
   "metadata": {},
   "source": [
    "equations for variational parameters"
   ]
  },
  {
   "cell_type": "code",
   "execution_count": 147,
   "id": "8f3f75a5",
   "metadata": {},
   "outputs": [],
   "source": [
    "def compute_teta1k(a0, b0, c0, d0, e0, f0, g0, N0, R0, K0, k0):\n",
    "    # a is the vector of \\tilde(eta_1k)\n",
    "    # b is eta_1\n",
    "    # c is eta_2\n",
    "    # d is the vector of \\tilde(nu_1n)\n",
    "    # e is the vector of \\tilde(eta_2k)\n",
    "    # f is the vector of \\tilde(nu_2n)\n",
    "    # g is the matrix of \\tilde(tau_nrk) NxRxK\n",
    "    # N = 10\n",
    "    # R - number of words in character i’s document\n",
    "    a = a0\n",
    "    b=b0\n",
    "    c=c0\n",
    "    d=d0\n",
    "    e=e0\n",
    "    f=f0\n",
    "    g=g0\n",
    "    N=N0\n",
    "    R=R0\n",
    "    K=K0\n",
    "    k=k0\n",
    "    sol = optimize.root(lambda x: teta1k_func(k,x, a, b, c, d, e, f, g, N, R, K), x0 = [0,0])\n",
    "    return sol.x"
   ]
  },
  {
   "cell_type": "code",
   "execution_count": 154,
   "id": "2f7a18db",
   "metadata": {},
   "outputs": [
    {
     "data": {
      "text/plain": [
       "1"
      ]
     },
     "execution_count": 154,
     "metadata": {},
     "output_type": "execute_result"
    }
   ],
   "source": [
    "g[1,1]"
   ]
  },
  {
   "cell_type": "code",
   "execution_count": 172,
   "id": "c723cf7f",
   "metadata": {},
   "outputs": [],
   "source": [
    "def teta1k_func(k,x, a, b, c, d, e, f, g, N, R, K):\n",
    "    # k is the kth term of \\tilde(eta_1k) we are asking for\n",
    "    # x is \\tilde(eta_1k) for this iteration\n",
    "    # a is the vector of \\tilde(eta_1k)\n",
    "    # b is eta_1\n",
    "    # c is eta_2\n",
    "    # d is the vector of \\tilde(nu_1n)\n",
    "    # e is the vector of \\tilde(eta_2k)\n",
    "    # f is the vector of \\tilde(nu_2n)\n",
    "    # g is the matrix of \\tilde(tau_nrk) NxRxK\n",
    "    # N = 10\n",
    "    # R - number of words in character i’s document\n",
    "    # K = 3\n",
    "    \n",
    "    first_term = 2*(b-x)/(c**2)\n",
    "    sum_ = [0,0]\n",
    "    for n in range(N):\n",
    "        \n",
    "        temp1 = (math.dist(x, d[n]) + 2*(e[k]**2 + f[n]**2))**(-0.5)\n",
    "        #print(temp1)\n",
    "        temp2 = (x-d[n])/(math.dist(x, d[n]))\n",
    "        #print(temp2)\n",
    "        temp3 = math.exp(-1*((math.dist(x,d[n])+2*(e[k]**2+f[n]**2))**0.5))\n",
    "        denominator = 0\n",
    "        for c in range(K):\n",
    "                temp4 = math.exp(-1*((math.dist(a[c],d[n])+2*(e[c]**2+f[n]**2))**0.5))\n",
    "                denominator += temp4\n",
    "        temp5 = 1- temp3/denominator\n",
    "        print(temp5)\n",
    "        for r in range(R[n]):\n",
    "            toadd = g[n,r,k]*temp1*temp2*temp5\n",
    "            #print(toadd)\n",
    "            sum_ += toadd        \n",
    "    return first_term - 0.5*sum_"
   ]
  },
  {
   "cell_type": "code",
   "execution_count": 80,
   "id": "5dece548",
   "metadata": {},
   "outputs": [],
   "source": [
    "def compute_teta2k(k0,, a0, c0, d0, e0,f0, g0, N0, R0, K0):\n",
    "    k = k0\n",
    "    a = a0\n",
    "    c = c0\n",
    "    d = d0\n",
    "    e = e0\n",
    "    f = f0\n",
    "    g = g0\n",
    "    N = N0\n",
    "    R = R0\n",
    "    K = K0\n",
    "    sol = optimize.root(lambda x: teta1k_func(k,x, a, c, d, e, f, g, N, R, K), x0 = [0])    \n",
    "    return sol.x"
   ]
  },
  {
   "cell_type": "code",
   "execution_count": 79,
   "id": "31229d2c",
   "metadata": {},
   "outputs": [],
   "source": [
    "def teta2k_func(k, x, a, c, d, e,f, g, N, R, K):\n",
    "    # k is the kth term of \\tilde(eta_2k) we are asking for\n",
    "    # x is \\tilde(eta_2k)\n",
    "    # a is the vector of \\tilde(eta_1k)\n",
    "    # c is eta_2\n",
    "    # d is the vector of \\tilde(nu_1n)\n",
    "    # e is the vector of \\tilde(eta_2k)\n",
    "    # f is the vector of \\tilde(nu_2n)\n",
    "    # g is the matrix of \\tilde(tau_nrk) NxRxk\n",
    "    sum_ = 0\n",
    "    first_term = 2/x\n",
    "    second_term = 2*x/(c**2)\n",
    "    \n",
    "    for n in range(N):\n",
    "        temp1 = ((math.dist(a[k], d[n]) + 2*(x**2 + f[n]**2))**(-0.5))\n",
    "        denominator = 0\n",
    "        temp3 = math.exp(-1*((math.dist(a[k],d[n])+2*(x**2+f[n]**2))**0.5))\n",
    "        for c in range(K):\n",
    "                temp4 = math.exp(-1*((math.dist(a[c],d[n])+2*(e[c]**2+f[n]**2))**(0.5)))\n",
    "                denominator += temp4\n",
    "        temp5 = 1- temp3/denominator\n",
    "        for r in range(R[n]):\n",
    "            toadd = g[n,r,k]*x*temp1*temp5\n",
    "            sum_ += toadd\n",
    "    \n",
    "    return first_term -second_term -0.5*sum_\n",
    "    "
   ]
  },
  {
   "cell_type": "code",
   "execution_count": 82,
   "id": "d4d228f8",
   "metadata": {},
   "outputs": [],
   "source": [
    "def compute_tnu1n(n0, a0, d0,e0, f0, g0, h0, w0, m0, y0,N0, R0, K0):\n",
    "    n = n0\n",
    "    a = a0\n",
    "    d = d0\n",
    "    e = e0\n",
    "    f = f0\n",
    "    g = g0\n",
    "    h = h0\n",
    "    w = w0\n",
    "    m = m0\n",
    "    y = y0\n",
    "    N = N0\n",
    "    R = R0\n",
    "    K = K0\n",
    "    sol = optimize.root(lambda x: tnu1n_func(n,x, a, d, e, f, g, h, w, m, y, N, R, K), x0 = [0,0])    \n",
    "    return sol.x"
   ]
  },
  {
   "cell_type": "code",
   "execution_count": 81,
   "id": "3fb96c48",
   "metadata": {},
   "outputs": [],
   "source": [
    "def tnu1n_func(n,x, a, d, e, f, g, h, w, m, y, N, R, K):\n",
    "    # n is the kth term of \\tilde(nu_1n) we are asking for\n",
    "    # x is \\tilde(nu_1n)\n",
    "    # a is the vector of \\tilde(eta_1k)\n",
    "    # d is the vector of \\tilde(nu_1n)\n",
    "    # e is the vector of \\tilde(eta_2k)\n",
    "    # f is the vector of \\tilde(nu_2n)\n",
    "    # g is the matrix of \\tilde(tau_nrk) NxRxK\n",
    "    # h is nu_1\n",
    "    # m is nu_2\n",
    "    # w is \\tilde(omega)\n",
    "    # y is connection matrix NxN\n",
    "    first_term = 2*(h-x)/(m**2)\n",
    "    denominator = 0\n",
    "    for c in range(K):\n",
    "            temp4 = math.exp(-1*((math.dist(a[c],x)+2*(e[c]**2+f[n]**2))**0.5))\n",
    "            denominator += temp4\n",
    "    result1 = 0       \n",
    "    for r in range(R[n]):\n",
    "        for k in range(K):\n",
    "            f_term = g[n,r,k]*((math.dist(a[k], x) + 2*(e[k]**2 + f[n]**2))**0.5)* (x-a[k])/(math.dist(a[k], x))\n",
    "            to_mult_1 = g[n,r,k]/denominator \n",
    "            to_mult_2 = 0\n",
    "            for c in range(K):\n",
    "                temp4 = math.exp(-1*((math.dist(a[c],x)+2*(e[c]**2+f[n]**2))**0.5))*((math.dist(a[c],x)+2*(e[c]**2+f[n]**2))**0.5)*(x-a[c])/(math.dist(x, a[c]))\n",
    "                to_mult_2 += temp4\n",
    "            s_term = to_mult_1*to_mult_2\n",
    "            result1 += f_term-s_term\n",
    "    result1 = result1/2\n",
    "    result2 = 0\n",
    "    for i in range(N):\n",
    "        if i != n:\n",
    "            to_mult_1 = ((math.dist(x, d[i]) + 2*(f[i]**2 + f[n]**2))**(0.5))*(x-d[i])/(math.dist(x, d[i]))\n",
    "            to_mult_2 = y[n, i]*w - math.exp(w*(1-((math.dist(x, d[i]) + 2*(f[i]**2 + f[n]**2))**(0.5))))/(1+math.exp(w*(1-((math.dist(x, d[i]) + 2*(f[i]**2 + f[n]**2))**(0.5)))))\n",
    "            result2 += to_mult_1*to_mult_2\n",
    "    result2 = result2/2\n",
    "    return first_term-result1 - result2"
   ]
  },
  {
   "cell_type": "code",
   "execution_count": 189,
   "id": "e1ffc54b",
   "metadata": {},
   "outputs": [],
   "source": [
    "def compute_tnu2n(n, m, a,d, e,f,g, w, K, R, N):\n",
    "    sol = optimize.root(lambda x: tnu2n_func(n, x, m, a,d, e,f,g, w, K, R, N), x0 = [0])    "
   ]
  },
  {
   "cell_type": "code",
   "execution_count": 188,
   "id": "4fa4fa0f",
   "metadata": {},
   "outputs": [],
   "source": [
    "def tnu2n_func(n, x, m, a,d, e,f,g, w, K, R, N):\n",
    "    # x is \\tilde(nu_2i) of interest\n",
    "    # m is nu_2\n",
    "    # g is the array of \\tilde(tau_nrk) NxRxK\n",
    "    # a is the array of \\tilde(eta_1k)\n",
    "    # d is the vector of \\tilde(nu_1n)\n",
    "    # e is the vector of \\tilde(eta_2k)\n",
    "    # f is the vector of \\tilde(nu_2n)\n",
    "    # w is \\tilde(omega)\n",
    "    first_term = 2/x - 2*x/(m**2)\n",
    "    second_term= 0\n",
    "    temp1 = 0\n",
    "    temp3 = 0\n",
    "    for c in range(K):\n",
    "        temp2 = math.exp(-1* (math.dist(a[c], d[n]) + 2*(e[c]**2 + f[n]**2))**(0.5)) * ((math.dist(a[c], d[n]) + 2*(e[c]**2 + f[n]**2))**(0.5))\n",
    "        temp1 += temp2\n",
    "        temp4 = math.exp(-1* (math.dist(a[c], d[n]) + 2*(e[c]**2 + f[n]**2))**(0.5)) \n",
    "        temp3 += temp4  \n",
    "    \n",
    "    for r in range(R[n]):\n",
    "        for k in range(K):\n",
    "            f_term = g[i,r,k]*x*((math.dist(a[k], d[n]) + 2*(e[k]**2 + f[n]**2))**(-0.5))\n",
    "            s_term = temp1/temp3\n",
    "            second_term += f_term - s_term\n",
    "            \n",
    "    third_term = 0\n",
    "    for j in range(N):\n",
    "        if j != n:\n",
    "            temp1 = x*((math.dist(d[i], d[j])+2*(x**2+f[j]**2))**(-0.5))\n",
    "            temp2 = y[i,j]*w + math.exp(w*(1-((math.dist(d[i], d[j])+2*(x**2+f[j]**2))**(0.5))))/ (1+math.exp(w*(1-((math.dist(d[i], d[j])+2*(x**2+f[j]**2))**(0.5)))))\n",
    "            \n",
    "            third_term += temp1*temp2\n",
    "    return first_term -2*second_term - 2*third_term"
   ]
  },
  {
   "cell_type": "code",
   "execution_count": 186,
   "id": "b1907c50",
   "metadata": {},
   "outputs": [],
   "source": [
    "def compute_tomega(y, d, f, N):\n",
    "    sol = optimize.root(lambda x: tomega_func(x, y, d, f, N), x0 = [0])    \n",
    "    return sol.x"
   ]
  },
  {
   "cell_type": "code",
   "execution_count": 184,
   "id": "c977f9cd",
   "metadata": {},
   "outputs": [],
   "source": [
    "def tomega_func(x, y, d, f, N):\n",
    "    # x is \\tilde(omega) of interest\n",
    "    # y is connection matrix NxN\n",
    "    # d is the vector of \\tilde(nu_1n)\n",
    "    # f is the vector of \\tilde(nu_2n)\n",
    "    first_term = 1/x\n",
    "    second_term = 0\n",
    "    for i in range(N):\n",
    "        for j in range(i+1, N):\n",
    "            f_term = y[i,j] * (1 - (math.dist(d[i], d[j])+2*(f[i]**2+f[j]**2))**(-0.5))\n",
    "            s_term = (1 - (math.dist(d[i], d[j])+2*(f[i]**2+f[j]**2))**(0.5))\n",
    "            t_term = 1+ math.exp(x*(1 - (math.dist(d[i], d[j])+2*(f[i]**2+f[j]**2))**(-0.5)))\n",
    "            second_term += f_term - s_term/t_term\n",
    "    return first_term + second_term"
   ]
  },
  {
   "cell_type": "code",
   "execution_count": null,
   "id": "576aff69",
   "metadata": {},
   "outputs": [],
   "source": [
    "def compute_tphikv(k,v, p, g,x, N, R):\n",
    "    #k,v are dimensions\n",
    "    # p is phi\n",
    "    # g is the matrix of \\tilde(tau_nrk) NxRxK\n",
    "    # x is the matrix of word ???\n",
    "    sum_ = 0\n",
    "    for n in range(N):\n",
    "        for r in range(R[n]):\n",
    "            toadd = g[n,r, k]*x[i,r, v]\n",
    "            sum_ += toadd\n",
    "    return sum_ + p"
   ]
  },
  {
   "cell_type": "code",
   "execution_count": 8,
   "id": "f6c86414",
   "metadata": {},
   "outputs": [],
   "source": [
    "def compute_ttauirk(i, r, k, a, d, e, f, x, t, K, V):\n",
    "    # i,r,k dimensions\n",
    "    # a is the vector of \\tilde(eta_1k)\n",
    "    # d is the vector of \\tilde(nu_1n)\n",
    "    # e is the vector of \\tilde(eta_2k)\n",
    "    # f is the vector of \\tilde(nu_2n)\n",
    "    # x is the matrix of word\n",
    "    # t is the matrix of \\tilde(phi), KxV\n",
    "    exp_1 = -1 -1*((math.dist(a[k],d[i])+2*(e[k]**2+f[i]**2))**0.5)\n",
    "    exp_2 = 0\n",
    "    exp_2_sum = 0\n",
    "    for j in range(V):\n",
    "        exp_2_sum += t[k,j]\n",
    "\n",
    "    for v in range(V):\n",
    "        to_add = x[i,r,v]*(psi(t[k,v]) - psi(exp_2_sum))\n",
    "        exp_2 += to_add\n",
    "    first_term = math.exp(exp_1 + exp_2)\n",
    "    second_term = 0\n",
    "    for c in range(K):\n",
    "        to_add = math.exp(-1*((math.dist(a[c],d[i])+2*(e[c]**2+f[i]**2))**0.5))\n",
    "        second_term += to_add\n",
    "    return first_term - second_term"
   ]
  },
  {
   "cell_type": "code",
   "execution_count": null,
   "id": "260829b1",
   "metadata": {},
   "outputs": [],
   "source": []
  },
  {
   "cell_type": "raw",
   "id": "22fc094a",
   "metadata": {},
   "source": [
    "Lower Bound Estimation"
   ]
  },
  {
   "cell_type": "code",
   "execution_count": 12,
   "id": "3d2298bc",
   "metadata": {},
   "outputs": [],
   "source": [
    "def ElogPzt(a,b,c,e, K):\n",
    "    # a is the vector of \\tilde(eta_1k)\n",
    "    # b is eta_1\n",
    "    # c is eta_2\n",
    "    # d is the vector of \\tilde(nu_1n)\n",
    "    # e is the vector of \\tilde(eta_2k)\n",
    "    # h is nu_1\n",
    "    # m is nu_2\n",
    "    sum_ = 0\n",
    "    temp1 = -K*math.log(2*math.pi)\n",
    "    temp2 = -2*K*math.log(c)\n",
    "    \n",
    "    for k in range(K):\n",
    "        toadd =  e[k]**2 + np.inner(a[k]-b, a[k]-b) #????\n",
    "        sum_ += toadd\n",
    "    \n",
    "    return temp1+temp2-sum_/(2*(c**2))"
   ]
  },
  {
   "cell_type": "code",
   "execution_count": 11,
   "id": "19f03c05",
   "metadata": {},
   "outputs": [],
   "source": [
    "def ElogPz(d,f,h,m, N):\n",
    "    # a is the vector of \\tilde(eta_1k)\n",
    "    # b is eta_1\n",
    "    # c is eta_2\n",
    "    # d is the vector of \\tilde(nu_1n)\n",
    "    # e is the vector of \\tilde(eta_2k)\n",
    "    # f is the vector of \\tilde(nu_2n)\n",
    "    # h is nu_1\n",
    "    # m is nu_2\n",
    "    \n",
    "    sum_ = 0\n",
    "    temp1 = -N*math.log(2*math.pi)\n",
    "    temp2 = -2*N*math.log(m)\n",
    "    \n",
    "    for i in range(N):\n",
    "        toadd = f[i]**2 + np.inner(d[i]-h, d[i]-h)\n",
    "        sum_ += toadd\n",
    "    return temp1+temp2-sum_/(2*(m**2))"
   ]
  },
  {
   "cell_type": "code",
   "execution_count": 10,
   "id": "a902842e",
   "metadata": {},
   "outputs": [],
   "source": [
    "def ElogPb(phi, x, K,V):\n",
    "    # phi is phi\n",
    "    # x is the matrix of \\tilde(phi_kj), KxV\n",
    "    sum_ = 0\n",
    "    temp1 = K*math.log(math.gamma(V*phi))\n",
    "    temp2 = -math.log(math.gamma(phi))*V*K\n",
    "    sum_ = 0\n",
    "    for k in range(K):\n",
    "        sum__ = 0\n",
    "        for j in range(V):\n",
    "            sum__ += x[k,j]\n",
    "        for v in range(V):\n",
    "            sum_ += psi(x[k,v]) - psi(sum__)\n",
    "            \n",
    "    return sum_*(phi-1) +temp1 + temp2"
   ]
  },
  {
   "cell_type": "code",
   "execution_count": 9,
   "id": "05c531c2",
   "metadata": {},
   "outputs": [],
   "source": [
    "def ElogPa(w):\n",
    "# w is omega\n",
    "    return -2*math.log(w)"
   ]
  },
  {
   "cell_type": "code",
   "execution_count": 20,
   "id": "2d887520",
   "metadata": {},
   "outputs": [],
   "source": [
    "def ElogPu(a, d, e, f, g, N, R, K):\n",
    "    # a is the vector of \\tilde(eta_1k)\n",
    "    # b is eta_1\n",
    "    # c is eta_2\n",
    "    # d is the vector of \\tilde(nu_1n)\n",
    "    # e is the vector of \\tilde(eta_2k)\n",
    "    # f is the vector of \\tilde(nu_2n)\n",
    "    # g is the matrix of \\tilde(tau_nrk) NxRxK\n",
    "    # h is nu_1\n",
    "    # m is nu_2\n",
    "    sum_ = 0\n",
    "    for i in range(N):\n",
    "        for r in range(R[i]):\n",
    "            for k in range(K):\n",
    "                sum_ += -g[i,r,k]*((math.dist(a[k],d[i]), 2*(e[k]**2 +f[i]**2))**(0.5))\n",
    "                \n",
    "                temp1 = 0\n",
    "                for c in range(K):\n",
    "                    temp1 += math.exp(-((math.dist(a[c],d[i]), 2*(e[c]**2 +f[i]**2))**(0.5)))\n",
    "                sum_ += -g[i,r,k]*math.log(temp1)\n",
    "    return sum_\n",
    "        "
   ]
  },
  {
   "cell_type": "code",
   "execution_count": 21,
   "id": "0f9f8336",
   "metadata": {},
   "outputs": [],
   "source": [
    "def ElogPx(g, x, phi, N, R, K, V):\n",
    "    sum_ = 0\n",
    "    for i in range(N):\n",
    "        for r in range(R[i]):\n",
    "            for k in range(K):\n",
    "                temp1 = 0\n",
    "                for c in range(V):\n",
    "                    temp1 += phi(k,c)\n",
    "                for v in range(V):\n",
    "                    sum_ += g[i,r,k]*x[i, v, r]*(psi(phi[k,v]) - psi(temp1))\n",
    "    return sum_\n",
    "                    \n",
    "                "
   ]
  },
  {
   "cell_type": "code",
   "execution_count": 22,
   "id": "2d41eb15",
   "metadata": {},
   "outputs": [],
   "source": [
    "def ElogPY( d, f, w,y, N):\n",
    "    sum_ = 0\n",
    "    for i in range(N):\n",
    "        for j in range(i+1, N):\n",
    "            temp1 = y[i, j] *w * (1-(math.dist(d[i], d[j]) + 2*(f[i]**2-f[j]**2))**0.5)\n",
    "            temp2 = math.log(1+math.exp(-w*(1-(math.dist(d[i], d[j]) + 2*(f[i]**2-f[j]**2))**0.5)))\n",
    "            sum_ += temp1 - temp2\n",
    "    return sum_"
   ]
  },
  {
   "cell_type": "code",
   "execution_count": 19,
   "id": "f136cbba",
   "metadata": {},
   "outputs": [],
   "source": [
    "def Elogqzt(e, K):\n",
    "    temp1 = -K*math.log(2*math.pi)\n",
    "    sum_ = 0\n",
    "    for k in range(K):\n",
    "        sum_ += math.log(e[k])\n",
    "    return temp1- 2*sum_ -1"
   ]
  },
  {
   "cell_type": "code",
   "execution_count": 17,
   "id": "bc5382bb",
   "metadata": {},
   "outputs": [],
   "source": [
    "def Elogqz(f, N):\n",
    "    temp1 = -N*math.log(2*math.pi)\n",
    "    sum_ =0\n",
    "    for i in range(N):\n",
    "        sum_ += log(f[i])\n",
    "    return temp1 - 2*math.log(sum_) -1"
   ]
  },
  {
   "cell_type": "code",
   "execution_count": 14,
   "id": "a4d6941c",
   "metadata": {},
   "outputs": [],
   "source": [
    "def Elogqb(phi, V, K):\n",
    "    temp1 = 0 \n",
    "    for k in range(K):\n",
    "        temp2 = 0\n",
    "        temp3 = 0\n",
    "        for v in range(V):\n",
    "            temp2 += phi[k,v]\n",
    "        temp1 += math.log(math.gamma(temp2))\n",
    "        for v in range(V):\n",
    "            temp3 += (phi[k,v]-1)*(psi(phi[k,v])-psi(temp2)) - math.log(math.gamma(phi[k,v]))\n",
    "        temp1 += temp3\n",
    "    return temp1\n",
    "        "
   ]
  },
  {
   "cell_type": "code",
   "execution_count": 15,
   "id": "f2e3f704",
   "metadata": {},
   "outputs": [],
   "source": [
    "def Elogqa(w):\n",
    "    # here is \\tilde omega\n",
    "    return -math.log(2*w)"
   ]
  },
  {
   "cell_type": "code",
   "execution_count": 16,
   "id": "3f83b92e",
   "metadata": {},
   "outputs": [],
   "source": [
    "def Elogqu(g, N,R, K):\n",
    "    sum_ = 0\n",
    "    for i in range(N):\n",
    "        for r in range(R[i]):\n",
    "            for k in range(K):\n",
    "                sum+= g[i,r,k]* log(g[i,r,k])\n",
    "    return sum_"
   ]
  },
  {
   "cell_type": "code",
   "execution_count": 23,
   "id": "fff9d968",
   "metadata": {},
   "outputs": [],
   "source": [
    "def KL_score(a0,b0,c0,d0,e0,f0,g0,t0,w0,omega0,h0,m0,R0,N0,V0,K0,phi0, X, Y):\n",
    "    temp1 =  ElogPzt(a0,b0,c0,e0,K0) + ElogPz(d0,f0,h0,m0, N0)+ElogPb(phi0, X, K,V)+ElogPa(omega0)\n",
    "    temp2 = ElogPu(a0, d0, e0, f0, g0, N0, R0, K0)+ElogPx(g0, X, phi0, N0, R0, K0, V0)+ElogPY( d0, f0, w0,Y, N0)\n",
    "    temp3 = Elogqzt(e0,K0) + Elogqz(f0, N0) +Elogqb(phi0, V0, K0) + Elogqa(w0) +  Elogqu(g0, N0,R0, K0)\n",
    "    return temp1 + temp2 - temp3"
   ]
  },
  {
   "cell_type": "raw",
   "id": "4698c1aa",
   "metadata": {},
   "source": [
    "Iteration"
   ]
  },
  {
   "cell_type": "code",
   "execution_count": null,
   "id": "b90122c3",
   "metadata": {},
   "outputs": [],
   "source": [
    "    # a is the vector of \\tilde(eta_1k)\n",
    "    # b is eta_1\n",
    "    # c is eta_2\n",
    "    # d is the vector of \\tilde(nu_1n)\n",
    "    # e is the vector of \\tilde(eta_2k)\n",
    "    # f is the vector of \\tilde(nu_2n)\n",
    "    # g is the matrix of \\tilde(tau_nrk) NxRxK\n",
    "    # t is the matrix of \\tilde(phi), KxV\n",
    "    # w is \\tilde(omega)\n",
    "    # N = 10\n",
    "    # R - number of words in character i’s document\n",
    "    # h is nu_1\n",
    "    # m is nu_2\n",
    "    # \n",
    "    # phi is phi"
   ]
  },
  {
   "cell_type": "code",
   "execution_count": 20,
   "id": "980e9460",
   "metadata": {},
   "outputs": [
    {
     "ename": "NameError",
     "evalue": "name 'y' is not defined",
     "output_type": "error",
     "traceback": [
      "\u001b[0;31m---------------------------------------------------------------------------\u001b[0m",
      "\u001b[0;31mNameError\u001b[0m                                 Traceback (most recent call last)",
      "Cell \u001b[0;32mIn[20], line 32\u001b[0m\n\u001b[1;32m     28\u001b[0m old_h \u001b[38;5;241m=\u001b[39m new_h\n\u001b[1;32m     29\u001b[0m old_m \u001b[38;5;241m=\u001b[39m new_m\n\u001b[0;32m---> 32\u001b[0m y\n\u001b[1;32m     33\u001b[0m x\n\u001b[1;32m     34\u001b[0m N\n",
      "\u001b[0;31mNameError\u001b[0m: name 'y' is not defined"
     ]
    }
   ],
   "source": [
    "new_a = np.zeros([3,2])\n",
    "new_b = np.zeros([1,2])\n",
    "new_c = np.zeros([1])\n",
    "new_d = np.zeros([10,2])\n",
    "new_e = np.zeros([3,1])\n",
    "new_f = np.zeros([10,1])\n",
    "new_g = np.zeros([10,102,])\n",
    "\n",
    "new_w = np.zeros([1])\n",
    "new_omega = np.zeros([1])\n",
    "new_t = np.zeros([3, 60])\n",
    "new_phi = np.zeros([1])\n",
    "\n",
    "new_h = np.zeros([1,2])\n",
    "new_m = np.zeros([1])\n",
    "\n",
    "old_a = new_a\n",
    "old_b = new_b\n",
    "old_c = new_c\n",
    "old_d = new_d\n",
    "old_e = new_e\n",
    "old_f = new_f\n",
    "old_g = new_g\n",
    "old_w = new_w\n",
    "old_omega = new_omega\n",
    "old_t = new_t\n",
    "old_phi = new_phi\n",
    "old_h = new_h\n",
    "old_m = new_m\n",
    "y\n",
    "x\n",
    "N\n",
    "R = [97,100,98,103,89,102,89,93,94,86]\n",
    "K = 3\n",
    "V = 60\n",
    "N = 10\n",
    "\n",
    "\n",
    "\n",
    "    "
   ]
  },
  {
   "cell_type": "code",
   "execution_count": 27,
   "id": "073b300d",
   "metadata": {},
   "outputs": [
    {
     "ename": "NameError",
     "evalue": "name 'compute_teta1k' is not defined",
     "output_type": "error",
     "traceback": [
      "\u001b[0;31m---------------------------------------------------------------------------\u001b[0m",
      "\u001b[0;31mNameError\u001b[0m                                 Traceback (most recent call last)",
      "Cell \u001b[0;32mIn[27], line 3\u001b[0m\n\u001b[1;32m      1\u001b[0m \u001b[38;5;28;01mwhile\u001b[39;00m \u001b[38;5;28;01mTrue\u001b[39;00m:\n\u001b[1;32m      2\u001b[0m     \u001b[38;5;28;01mfor\u001b[39;00m k \u001b[38;5;129;01min\u001b[39;00m \u001b[38;5;28mrange\u001b[39m(K):\n\u001b[0;32m----> 3\u001b[0m         new_a[k] \u001b[38;5;241m=\u001b[39m compute_teta1k(a0 \u001b[38;5;241m=\u001b[39m old_a, b0\u001b[38;5;241m=\u001b[39mold_b, c0\u001b[38;5;241m=\u001b[39mold_c, d0\u001b[38;5;241m=\u001b[39mold_d, e0\u001b[38;5;241m=\u001b[39mold_e, f0\u001b[38;5;241m=\u001b[39mold_f, g0\u001b[38;5;241m=\u001b[39mold_g, N0\u001b[38;5;241m=\u001b[39mN, R0\u001b[38;5;241m=\u001b[39mR, K0\u001b[38;5;241m=\u001b[39mK, k0\u001b[38;5;241m=\u001b[39mk)\n\u001b[1;32m      4\u001b[0m         new_e[k] \u001b[38;5;241m=\u001b[39m compute_teta2k(k0\u001b[38;5;241m=\u001b[39mk, a0 \u001b[38;5;241m=\u001b[39m old_a, c0\u001b[38;5;241m=\u001b[39mold_c, d0\u001b[38;5;241m=\u001b[39mold_d,  e0\u001b[38;5;241m=\u001b[39mold_e,f0\u001b[38;5;241m=\u001b[39mold_f, g0\u001b[38;5;241m=\u001b[39mold_g, N0\u001b[38;5;241m=\u001b[39mN, R0\u001b[38;5;241m=\u001b[39mR, K0\u001b[38;5;241m=\u001b[39mK)\n\u001b[1;32m      5\u001b[0m         \u001b[38;5;28;01mfor\u001b[39;00m v \u001b[38;5;129;01min\u001b[39;00m \u001b[38;5;28mrange\u001b[39m(V):\n",
      "\u001b[0;31mNameError\u001b[0m: name 'compute_teta1k' is not defined"
     ]
    }
   ],
   "source": [
    "while True:\n",
    "    for k in range(K):\n",
    "        new_a[k] = compute_teta1k(a0 = old_a, b0=old_b, c0=old_c, d0=old_d, e0=old_e, f0=old_f, g0=old_g, N0=N, R0=R, K0=K, k0=k)\n",
    "        new_e[k] = compute_teta2k(k0=k, a0 = old_a, c0=old_c, d0=old_d,  e0=old_e,f0=old_f, g0=old_g, N0=N, R0=R, K0=K)\n",
    "        for v in range(V):\n",
    "            new_t[k,v] = compute_tphikv(k=k,v=v, p=old_phi, g=old_g,x=X, N=N, R=R)\n",
    "    \n",
    "    for i in range(N):\n",
    "        new_d[i] = compute_tnu1n(n0=i, a0=old_a, d0=old_d,e0=old_e, f0=old_f, g0=old_g, h0=old_h, w0 = old_w, m0 = old_m, y0=Y,N0=N, R0=R, K0=K)\n",
    "        new_f[i] = compute_tnu2n(n=i, m=old_m, a=old_a,d=old_d, e=old_e,f=old_f,g=old_g, w=old_w, K=K, R=R, N=N)\n",
    "        for r in range(R[n]):\n",
    "            for k in range(K):\n",
    "                new_g = compute_ttauirk(i, r, k, a=old_a, d=old_d, e=old_e, f=old_f, x=X, t=old_t, K=K, V=V)\n",
    "    new_w = compute_tomega(y=Y, d=old_d, f=old_f, N=N)\n",
    "    new_b = compute_eta1(old_a)\n",
    "    new_c = compute_eta2(old_a, old_b, old_e, K)\n",
    "    new_omega = compute_omega()\n",
    "    new_phi = compute_phi(old_t, V, K)\n",
    "    new_h = compute_nu1(old_d)\n",
    "    new_m =compute_nu2(old_d, old_f, old_h)\n",
    "    \n",
    "    KL_s = KL_score(a0=new_a, b0=new_b, c0=new_c,d0=new_d,e0=new_e,f0 = new_f,g0 = new_g, w0= new_w, \n",
    "                    omega0= new_omega, t0= new_t, phi0 = new_phi, h0 = new_h, m0= new_m, Y=Y, X=X, R0=R,N0=N,K0=K,V0=V)\n",
    "    print(KL_s)\n",
    "    old_a = new_a\n",
    "    old_b = new_b\n",
    "    old_c = new_c\n",
    "    old_d = new_d\n",
    "    old_e = new_e\n",
    "    old_f = new_f\n",
    "    old_g = new_g\n",
    "    old_w = new_w\n",
    "    old_omega = new_omega\n",
    "    old_t = new_t\n",
    "    old_phi = new_phi\n",
    "    old_h = new_h\n",
    "    old_m = new_m\n",
    "    \n",
    "        "
   ]
  },
  {
   "cell_type": "code",
   "execution_count": 26,
   "id": "b27a8468",
   "metadata": {},
   "outputs": [],
   "source": [
    "K = 3"
   ]
  },
  {
   "cell_type": "code",
   "execution_count": 17,
   "id": "9ff2d7e7",
   "metadata": {},
   "outputs": [],
   "source": [
    "a = np.zeros(1)"
   ]
  },
  {
   "cell_type": "code",
   "execution_count": 33,
   "id": "7e34de65",
   "metadata": {},
   "outputs": [
    {
     "ename": "NameError",
     "evalue": "name 'NaN' is not defined",
     "output_type": "error",
     "traceback": [
      "\u001b[0;31m---------------------------------------------------------------------------\u001b[0m",
      "\u001b[0;31mNameError\u001b[0m                                 Traceback (most recent call last)",
      "Cell \u001b[0;32mIn[33], line 1\u001b[0m\n\u001b[0;32m----> 1\u001b[0m NaN\u001b[38;5;241m*\u001b[39m\u001b[38;5;241m2\u001b[39m\n",
      "\u001b[0;31mNameError\u001b[0m: name 'NaN' is not defined"
     ]
    }
   ],
   "source": [
    "NaN*2"
   ]
  },
  {
   "cell_type": "code",
   "execution_count": 16,
   "id": "35c64279",
   "metadata": {},
   "outputs": [
    {
     "data": {
      "text/plain": [
       "0.0"
      ]
     },
     "execution_count": 16,
     "metadata": {},
     "output_type": "execute_result"
    }
   ],
   "source": []
  },
  {
   "cell_type": "code",
   "execution_count": null,
   "id": "26135bd9",
   "metadata": {},
   "outputs": [],
   "source": []
  }
 ],
 "metadata": {
  "kernelspec": {
   "display_name": "Python 3 (ipykernel)",
   "language": "python",
   "name": "python3"
  },
  "language_info": {
   "codemirror_mode": {
    "name": "ipython",
    "version": 3
   },
   "file_extension": ".py",
   "mimetype": "text/x-python",
   "name": "python",
   "nbconvert_exporter": "python",
   "pygments_lexer": "ipython3",
   "version": "3.11.4"
  }
 },
 "nbformat": 4,
 "nbformat_minor": 5
}
